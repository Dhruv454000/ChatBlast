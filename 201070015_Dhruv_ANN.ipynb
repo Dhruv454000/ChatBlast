{
  "metadata": {
    "kernelspec": {
      "language": "python",
      "display_name": "Python 3",
      "name": "python3"
    },
    "language_info": {
      "name": "python",
      "version": "3.7.12",
      "mimetype": "text/x-python",
      "codemirror_mode": {
        "name": "ipython",
        "version": 3
      },
      "pygments_lexer": "ipython3",
      "nbconvert_exporter": "python",
      "file_extension": ".py"
    },
    "colab": {
      "provenance": [],
      "include_colab_link": true
    }
  },
  "nbformat_minor": 0,
  "nbformat": 4,
  "cells": [
    {
      "cell_type": "markdown",
      "metadata": {
        "id": "view-in-github",
        "colab_type": "text"
      },
      "source": [
        "<a href=\"https://colab.research.google.com/github/Dhruv454000/ChatBlast/blob/main/201070015_Dhruv_ANN.ipynb\" target=\"_parent\"><img src=\"https://colab.research.google.com/assets/colab-badge.svg\" alt=\"Open In Colab\"/></a>"
      ]
    },
    {
      "cell_type": "code",
      "source": [
        "\"\"\"\n",
        " \n",
        "  Name : Dhruv Kunjadiya\n",
        "  Branch : CS\n",
        "  Reg no : 201070015\n",
        "  Batch 1\n",
        "  Topic : Implement ANN from Scratch on wbcd dataset.\n",
        "\n",
        "\"\"\""
      ],
      "metadata": {
        "colab": {
          "base_uri": "https://localhost:8080/",
          "height": 53
        },
        "id": "IgCb-3i9FryX",
        "outputId": "a2768efe-bd28-4f2b-eba4-e492a00ef971"
      },
      "execution_count": null,
      "outputs": [
        {
          "output_type": "execute_result",
          "data": {
            "text/plain": [
              "'\\n \\n  Name : Dhruv Kunjadiya\\n  Branch : CS\\n  Reg no : 201070015\\n  Batch 1\\n  Topic : Implement ANN from Scratch on wbcd dataset.\\n\\n'"
            ],
            "application/vnd.google.colaboratory.intrinsic+json": {
              "type": "string"
            }
          },
          "metadata": {},
          "execution_count": 1
        }
      ]
    },
    {
      "cell_type": "code",
      "source": [
        "from google.colab import drive\n",
        "drive.mount('/content/drive')"
      ],
      "metadata": {
        "colab": {
          "base_uri": "https://localhost:8080/"
        },
        "id": "fvy1g3v2PSdz",
        "outputId": "bc278733-69f6-47a2-cf15-801a39116ae5"
      },
      "execution_count": null,
      "outputs": [
        {
          "output_type": "stream",
          "name": "stdout",
          "text": [
            "Drive already mounted at /content/drive; to attempt to forcibly remount, call drive.mount(\"/content/drive\", force_remount=True).\n"
          ]
        }
      ]
    },
    {
      "cell_type": "code",
      "source": [
        "url = 'https://archive.ics.uci.edu/ml/machine-learning-databases/breast-cancer-wisconsin/wdbc.data'\n",
        "df = pd.read_csv(url, header=None)"
      ],
      "metadata": {
        "id": "frnE3r_DW2eG"
      },
      "execution_count": null,
      "outputs": []
    },
    {
      "cell_type": "code",
      "source": [
        "import numpy as np\n",
        "import pandas as pd\n",
        "from sklearn.model_selection import train_test_split\n",
        "from sklearn.preprocessing import StandardScaler\n",
        "import seaborn as sns\n",
        "import matplotlib.pyplot as plt\n",
        "from sklearn.metrics import accuracy_score\n",
        "\n"
      ],
      "metadata": {
        "id": "RcRohwToPg-f"
      },
      "execution_count": null,
      "outputs": []
    },
    {
      "cell_type": "code",
      "source": [
        "df.describe"
      ],
      "metadata": {
        "colab": {
          "base_uri": "https://localhost:8080/"
        },
        "id": "nYXKZFqwVaiN",
        "outputId": "491d12c9-bf49-4430-db2f-5f3dd948641b"
      },
      "execution_count": null,
      "outputs": [
        {
          "output_type": "execute_result",
          "data": {
            "text/plain": [
              "<bound method NDFrame.describe of            0  1      2      3       4       5        6        7        8   \\\n",
              "0      842302  M  17.99  10.38  122.80  1001.0  0.11840  0.27760  0.30010   \n",
              "1      842517  M  20.57  17.77  132.90  1326.0  0.08474  0.07864  0.08690   \n",
              "2    84300903  M  19.69  21.25  130.00  1203.0  0.10960  0.15990  0.19740   \n",
              "3    84348301  M  11.42  20.38   77.58   386.1  0.14250  0.28390  0.24140   \n",
              "4    84358402  M  20.29  14.34  135.10  1297.0  0.10030  0.13280  0.19800   \n",
              "..        ... ..    ...    ...     ...     ...      ...      ...      ...   \n",
              "564    926424  M  21.56  22.39  142.00  1479.0  0.11100  0.11590  0.24390   \n",
              "565    926682  M  20.13  28.25  131.20  1261.0  0.09780  0.10340  0.14400   \n",
              "566    926954  M  16.60  28.08  108.30   858.1  0.08455  0.10230  0.09251   \n",
              "567    927241  M  20.60  29.33  140.10  1265.0  0.11780  0.27700  0.35140   \n",
              "568     92751  B   7.76  24.54   47.92   181.0  0.05263  0.04362  0.00000   \n",
              "\n",
              "          9   ...      22     23      24      25       26       27      28  \\\n",
              "0    0.14710  ...  25.380  17.33  184.60  2019.0  0.16220  0.66560  0.7119   \n",
              "1    0.07017  ...  24.990  23.41  158.80  1956.0  0.12380  0.18660  0.2416   \n",
              "2    0.12790  ...  23.570  25.53  152.50  1709.0  0.14440  0.42450  0.4504   \n",
              "3    0.10520  ...  14.910  26.50   98.87   567.7  0.20980  0.86630  0.6869   \n",
              "4    0.10430  ...  22.540  16.67  152.20  1575.0  0.13740  0.20500  0.4000   \n",
              "..       ...  ...     ...    ...     ...     ...      ...      ...     ...   \n",
              "564  0.13890  ...  25.450  26.40  166.10  2027.0  0.14100  0.21130  0.4107   \n",
              "565  0.09791  ...  23.690  38.25  155.00  1731.0  0.11660  0.19220  0.3215   \n",
              "566  0.05302  ...  18.980  34.12  126.70  1124.0  0.11390  0.30940  0.3403   \n",
              "567  0.15200  ...  25.740  39.42  184.60  1821.0  0.16500  0.86810  0.9387   \n",
              "568  0.00000  ...   9.456  30.37   59.16   268.6  0.08996  0.06444  0.0000   \n",
              "\n",
              "         29      30       31  \n",
              "0    0.2654  0.4601  0.11890  \n",
              "1    0.1860  0.2750  0.08902  \n",
              "2    0.2430  0.3613  0.08758  \n",
              "3    0.2575  0.6638  0.17300  \n",
              "4    0.1625  0.2364  0.07678  \n",
              "..      ...     ...      ...  \n",
              "564  0.2216  0.2060  0.07115  \n",
              "565  0.1628  0.2572  0.06637  \n",
              "566  0.1418  0.2218  0.07820  \n",
              "567  0.2650  0.4087  0.12400  \n",
              "568  0.0000  0.2871  0.07039  \n",
              "\n",
              "[569 rows x 32 columns]>"
            ]
          },
          "metadata": {},
          "execution_count": 15
        }
      ]
    },
    {
      "cell_type": "code",
      "source": [
        "# check the shape and basic information of the dataset\n",
        "print(df.shape)\n",
        "print(df.info())"
      ],
      "metadata": {
        "colab": {
          "base_uri": "https://localhost:8080/"
        },
        "id": "zS4NYYQFVLPk",
        "outputId": "7c52156a-8959-4516-aeb2-ff65c5543c36"
      },
      "execution_count": null,
      "outputs": [
        {
          "output_type": "stream",
          "name": "stdout",
          "text": [
            "(569, 32)\n",
            "<class 'pandas.core.frame.DataFrame'>\n",
            "RangeIndex: 569 entries, 0 to 568\n",
            "Data columns (total 32 columns):\n",
            " #   Column  Non-Null Count  Dtype  \n",
            "---  ------  --------------  -----  \n",
            " 0   0       569 non-null    int64  \n",
            " 1   1       569 non-null    object \n",
            " 2   2       569 non-null    float64\n",
            " 3   3       569 non-null    float64\n",
            " 4   4       569 non-null    float64\n",
            " 5   5       569 non-null    float64\n",
            " 6   6       569 non-null    float64\n",
            " 7   7       569 non-null    float64\n",
            " 8   8       569 non-null    float64\n",
            " 9   9       569 non-null    float64\n",
            " 10  10      569 non-null    float64\n",
            " 11  11      569 non-null    float64\n",
            " 12  12      569 non-null    float64\n",
            " 13  13      569 non-null    float64\n",
            " 14  14      569 non-null    float64\n",
            " 15  15      569 non-null    float64\n",
            " 16  16      569 non-null    float64\n",
            " 17  17      569 non-null    float64\n",
            " 18  18      569 non-null    float64\n",
            " 19  19      569 non-null    float64\n",
            " 20  20      569 non-null    float64\n",
            " 21  21      569 non-null    float64\n",
            " 22  22      569 non-null    float64\n",
            " 23  23      569 non-null    float64\n",
            " 24  24      569 non-null    float64\n",
            " 25  25      569 non-null    float64\n",
            " 26  26      569 non-null    float64\n",
            " 27  27      569 non-null    float64\n",
            " 28  28      569 non-null    float64\n",
            " 29  29      569 non-null    float64\n",
            " 30  30      569 non-null    float64\n",
            " 31  31      569 non-null    float64\n",
            "dtypes: float64(30), int64(1), object(1)\n",
            "memory usage: 142.4+ KB\n",
            "None\n"
          ]
        }
      ]
    },
    {
      "cell_type": "code",
      "source": [
        "X = df.iloc[:, 2:].values\n",
        "y = df.iloc[:, 1].values\n",
        "y = np.where(y == 'M', 1, 0)\n",
        "\n",
        "sc = StandardScaler()\n",
        "X = sc.fit_transform(X)\n",
        "X_train, X_test, y_train, y_test = train_test_split(X, y, test_size=0.2, random_state=0)\n"
      ],
      "metadata": {
        "id": "NE3Hsg-VVF9E"
      },
      "execution_count": null,
      "outputs": []
    },
    {
      "cell_type": "code",
      "source": [
        "input_dim = X_train.shape[1]\n",
        "hidden_dim = 4\n",
        "output_dim = 1\n",
        "\n",
        "np.random.seed(0)\n",
        "w1 = np.random.randn(input_dim, hidden_dim)\n",
        "b1 = np.zeros((1, hidden_dim))\n",
        "w2 = np.random.randn(hidden_dim, output_dim)\n",
        "b2 = np.zeros((1, output_dim))\n"
      ],
      "metadata": {
        "id": "AHIoQE22UHZs"
      },
      "execution_count": null,
      "outputs": []
    },
    {
      "cell_type": "code",
      "source": [
        "def sigmoid(x):\n",
        "    return 1 / (1 + np.exp(-x))\n",
        "\n",
        "def sigmoid_deriv(x):\n",
        "    return x * (1 - x)\n",
        "epochs = 5000\n",
        "learning_rate = 0.1\n",
        "\n",
        "import matplotlib.pyplot as plt\n",
        "\n",
        "# initialize lists to store the loss and accuracy for each epoch\n",
        "losses = []\n",
        "accuracies = []\n",
        "\n",
        "# train the neural network\n",
        "for i in range(epochs):\n",
        "    # forward propagation\n",
        "    z1 = np.dot(X_train, w1) + b1\n",
        "    a1 = sigmoid(z1)\n",
        "    z2 = np.dot(a1, w2) + b2\n",
        "    y_pred = sigmoid(z2)\n",
        "\n",
        "    # calculate the loss\n",
        "    error = y_train.reshape(-1, 1) - y_pred\n",
        "    loss = np.mean(np.abs(error))\n",
        "    losses.append(loss)\n",
        "\n",
        "    # calculate the accuracy\n",
        "    accuracy = accuracy_score(y_train, (y_pred > 0.5).astype(int))\n",
        "    accuracies.append(accuracy)\n",
        "\n",
        "    # backward propagation\n",
        "    delta2 = error * sigmoid_deriv(y_pred)\n",
        "    delta1 = delta2.dot(w2.T) * sigmoid_deriv(a1)\n",
        "\n",
        "    # update weights and biases\n",
        "    w2 += a1.T.dot(delta2) * learning_rate\n",
        "    b2 += np.sum(delta2, axis=0, keepdims=True) * learning_rate\n",
        "    w1 += X_train.T.dot(delta1) * learning_rate\n",
        "    b1 += np.sum(delta1, axis=0) * learning_rate\n",
        "\n",
        "# plot the loss curve\n",
        "plt.plot(losses)\n",
        "plt.title(\"Training Loss\")\n",
        "plt.xlabel(\"Epoch\")\n",
        "plt.ylabel(\"Loss\")\n",
        "plt.show()\n",
        " \n",
        "# make predictions on the test set\n",
        "y_pred = (sigmoid(np.dot(sigmoid(np.dot(X_test, w1) + b1), w2) + b2) > 0.5).astype(int).flatten()\n",
        "\n",
        "# calculate the accuracy of the model\n",
        "from sklearn.metrics import accuracy_score\n",
        "print(\"Accuracy:\", accuracy_score(y_test, y_pred))"
      ],
      "metadata": {
        "colab": {
          "base_uri": "https://localhost:8080/",
          "height": 489
        },
        "id": "L9uUGHh7UKHM",
        "outputId": "e10e5550-f8d5-49af-f304-50398432e09d"
      },
      "execution_count": null,
      "outputs": [
        {
          "output_type": "display_data",
          "data": {
            "text/plain": [
              "<Figure size 640x480 with 1 Axes>"
            ],
            "image/png": "[encoded data removed]"
          },
          "metadata": {}
        },
        {
          "output_type": "stream",
          "name": "stdout",
          "text": [
            "Accuracy: 0.9824561403508771\n"
          ]
        }
      ]
    },
    {
      "cell_type": "code",
      "source": [],
      "metadata": {
        "id": "EEs3jZJrUWkh"
      },
      "execution_count": null,
      "outputs": []
    }
  ]
}